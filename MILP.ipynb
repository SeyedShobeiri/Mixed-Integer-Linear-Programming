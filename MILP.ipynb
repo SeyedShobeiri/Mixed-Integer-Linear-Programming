{
 "cells": [
  {
   "cell_type": "code",
   "execution_count": 3,
   "id": "51473b97-d53e-4c69-9816-13e877d78148",
   "metadata": {},
   "outputs": [
    {
     "name": "stdout",
     "output_type": "stream",
     "text": [
      "Requirement already satisfied: mip in /opt/anaconda3/lib/python3.8/site-packages (1.13.0)\n",
      "Requirement already satisfied: cffi in /opt/anaconda3/lib/python3.8/site-packages (from mip) (1.14.6)\n",
      "Requirement already satisfied: pycparser in /opt/anaconda3/lib/python3.8/site-packages (from cffi->mip) (2.20)\n"
     ]
    }
   ],
   "source": [
    "!pip install mip"
   ]
  },
  {
   "cell_type": "code",
   "execution_count": 4,
   "id": "ddc67a84-dc4e-40bc-b99d-8bc655e83c8f",
   "metadata": {},
   "outputs": [],
   "source": [
    "from mip import *"
   ]
  },
  {
   "cell_type": "markdown",
   "id": "824a3a85-3855-47ff-9201-cda14871f2e7",
   "metadata": {},
   "source": [
    "### Creating Models"
   ]
  },
  {
   "cell_type": "markdown",
   "id": "8145741c-365c-46f1-b92b-ce937d54cf53",
   "metadata": {},
   "source": [
    "Create an empty Mixed-Integer Linear Programming model"
   ]
  },
  {
   "cell_type": "code",
   "execution_count": 6,
   "id": "abe98590-6d37-4c19-aa79-172b5f27b61a",
   "metadata": {},
   "outputs": [],
   "source": [
    "m = Model(sense = MINIMIZE,solver_name = CBC) # Sense can be MAXIMIZE and solver_name can be GRB if Gurobi installation is found in the system"
   ]
  },
  {
   "cell_type": "markdown",
   "id": "b82764a0-e75f-4cfc-93f8-f36a8e27f31d",
   "metadata": {},
   "source": [
    "Include decision variables, objective function and constraints"
   ]
  },
  {
   "cell_type": "code",
   "execution_count": 7,
   "id": "c5d22da9-d21c-421b-9e52-d89f625da4c2",
   "metadata": {},
   "outputs": [],
   "source": [
    "x = m.add_var() # single variable with domain in $\\mathbb{R}^{+}$"
   ]
  },
  {
   "cell_type": "code",
   "execution_count": 8,
   "id": "7026ba32-1da2-4566-b9de-7e5d0ba8efdd",
   "metadata": {},
   "outputs": [],
   "source": [
    "n = 10\n",
    "y = [m.add_var(var_type = BINARY) for i in range(n)] # 10 binary decision variables stored in a list, available variable types are CONTINOUS and INTEGER"
   ]
  },
  {
   "cell_type": "code",
   "execution_count": 9,
   "id": "3af7e372-fc74-4d90-bf25-f6bc3130142b",
   "metadata": {},
   "outputs": [],
   "source": [
    "z = m.add_var(name = 'zCost',var_type=INTEGER, lb = -10, ub = 10) # name is optional, lb is lower bound and ub is upper bound"
   ]
  },
  {
   "cell_type": "markdown",
   "id": "83cea04d-2a70-40b6-bffd-1da1c452056b",
   "metadata": {},
   "source": [
    "Can always reference a variable using var_by_name() function, BUT here our variables (x,y,z) are already referenced"
   ]
  },
  {
   "cell_type": "markdown",
   "id": "01bb79e5-bc5f-4381-b871-1a7a45e7a1e3",
   "metadata": {},
   "source": [
    "Include Constraints"
   ]
  },
  {
   "cell_type": "code",
   "execution_count": 13,
   "id": "0d6417bd-94a7-4dc1-9e1b-5f6dfbe7669b",
   "metadata": {},
   "outputs": [],
   "source": [
    "m += x + y <=10\n",
    "m += xsum(w[i]*x[i] for i in range(n)) <= c # summation expression\n",
    "m += xsum(w[i]*x[i] for i in range(n) if i%2 == 0) <= c, 'even_sum' # conditional expression and naming the constraint"
   ]
  },
  {
   "cell_type": "markdown",
   "id": "bb86183e-744d-40ff-a4bf-2adbd57ebe06",
   "metadata": {},
   "source": [
    "can reference any constraint using constr_by_name() function"
   ]
  },
  {
   "cell_type": "code",
   "execution_count": 14,
   "id": "c4e61d69-b527-42fc-a5c8-b4ee538e4b4e",
   "metadata": {},
   "outputs": [],
   "source": [
    "constraint = m.constr_by_name('even_sum')"
   ]
  },
  {
   "cell_type": "markdown",
   "id": "83b9f7e7-5d7d-4d2a-af2d-2f1175cb31cb",
   "metadata": {},
   "source": [
    "Include Objective Function  \n",
    "\n",
    "**By default a model is created with Minimize sense**"
   ]
  },
  {
   "cell_type": "code",
   "execution_count": 17,
   "id": "7ecb60e7-6673-4656-8ca1-9e37b86c3739",
   "metadata": {},
   "outputs": [],
   "source": [
    "m.objective = xsum(c[i]*x[i] for i in range(n)) # this is automatically set as a minimization since in our model definition above the sense is MINIMIZE \n",
    "                                                # We can change the sense to MAXIMIZE or explicitly claim it as below\n",
    "m.objective = maximize(xsum(c[i]*x[i] for i in range(n)))"
   ]
  },
  {
   "cell_type": "markdown",
   "id": "eafafc79-082d-473b-9147-2ba0b2819db3",
   "metadata": {},
   "source": [
    "### Saving, Loading and Checking Model Properties"
   ]
  },
  {
   "cell_type": "code",
   "execution_count": null,
   "id": "2981c6bd-60e8-489a-b32e-d93a2996725f",
   "metadata": {},
   "outputs": [],
   "source": [
    "m.write('model.lp') # .lp or .mps file formats are suitable for saving and debugging\n",
    "m.read('model.lp')\n",
    "print('model has {} vars, {} constraints and {} nzs'.format(m.num_cols,m.num_rows,m.num_nz))"
   ]
  },
  {
   "cell_type": "code",
   "execution_count": null,
   "id": "31f62b4c-0630-4b92-9efc-6ff1a717a62c",
   "metadata": {},
   "outputs": [],
   "source": []
  }
 ],
 "metadata": {
  "kernelspec": {
   "display_name": "Python 3",
   "language": "python",
   "name": "python3"
  },
  "language_info": {
   "codemirror_mode": {
    "name": "ipython",
    "version": 3
   },
   "file_extension": ".py",
   "mimetype": "text/x-python",
   "name": "python",
   "nbconvert_exporter": "python",
   "pygments_lexer": "ipython3",
   "version": "3.8.8"
  }
 },
 "nbformat": 4,
 "nbformat_minor": 5
}
